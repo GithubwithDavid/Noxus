{
 "cells": [
  {
   "cell_type": "code",
   "id": "84aaafb5b162dce9",
   "metadata": {
    "ExecuteTime": {
     "end_time": "2025-07-17T01:29:31.393510Z",
     "start_time": "2025-07-17T01:29:31.089984Z"
    }
   },
   "source": "import numpy as np",
   "outputs": [],
   "execution_count": 1
  },
  {
   "cell_type": "code",
   "id": "dfe2bba147fa97cd",
   "metadata": {
    "ExecuteTime": {
     "end_time": "2025-07-17T01:29:31.864481Z",
     "start_time": "2025-07-17T01:29:31.855923Z"
    }
   },
   "source": "listarr = np.array([[1,2,3],[4,5,6],[7,8,9]])",
   "outputs": [],
   "execution_count": 2
  },
  {
   "metadata": {},
   "cell_type": "markdown",
   "source": "",
   "id": "c5bc9ffbb6e76634"
  },
  {
   "metadata": {
    "ExecuteTime": {
     "end_time": "2025-07-17T01:29:31.996453Z",
     "start_time": "2025-07-17T01:29:31.982623Z"
    }
   },
   "cell_type": "code",
   "source": "listarr.shape",
   "id": "89ac6269fddd562e",
   "outputs": [
    {
     "data": {
      "text/plain": [
       "(3, 3)"
      ]
     },
     "execution_count": 3,
     "metadata": {},
     "output_type": "execute_result"
    }
   ],
   "execution_count": 3
  },
  {
   "metadata": {
    "ExecuteTime": {
     "end_time": "2025-07-17T01:29:32.388425Z",
     "start_time": "2025-07-17T01:29:32.378115Z"
    }
   },
   "cell_type": "code",
   "source": "listarr.size",
   "id": "2ed687f96b4c13d2",
   "outputs": [
    {
     "data": {
      "text/plain": [
       "9"
      ]
     },
     "execution_count": 4,
     "metadata": {},
     "output_type": "execute_result"
    }
   ],
   "execution_count": 4
  },
  {
   "metadata": {
    "ExecuteTime": {
     "end_time": "2025-07-17T01:29:32.735942Z",
     "start_time": "2025-07-17T01:29:32.726669Z"
    }
   },
   "cell_type": "code",
   "source": "zeros = np.zeros((3,3), np.int64)",
   "id": "fdd193fa4758b70e",
   "outputs": [],
   "execution_count": 5
  },
  {
   "metadata": {
    "ExecuteTime": {
     "end_time": "2025-07-17T01:29:32.875056Z",
     "start_time": "2025-07-17T01:29:32.864930Z"
    }
   },
   "cell_type": "code",
   "source": "zeros",
   "id": "b9fae4e17583839",
   "outputs": [
    {
     "data": {
      "text/plain": [
       "array([[0, 0, 0],\n",
       "       [0, 0, 0],\n",
       "       [0, 0, 0]])"
      ]
     },
     "execution_count": 6,
     "metadata": {},
     "output_type": "execute_result"
    }
   ],
   "execution_count": 6
  },
  {
   "metadata": {
    "ExecuteTime": {
     "end_time": "2025-07-17T01:29:34.805327Z",
     "start_time": "2025-07-17T01:29:34.799584Z"
    }
   },
   "cell_type": "code",
   "source": "rng = np.arange(1, 16)",
   "id": "8feea36672de8475",
   "outputs": [],
   "execution_count": 7
  },
  {
   "metadata": {
    "ExecuteTime": {
     "end_time": "2025-07-17T01:29:35.453572Z",
     "start_time": "2025-07-17T01:29:35.443294Z"
    }
   },
   "cell_type": "code",
   "source": "rng",
   "id": "4e3725aa875ab456",
   "outputs": [
    {
     "data": {
      "text/plain": [
       "array([ 1,  2,  3,  4,  5,  6,  7,  8,  9, 10, 11, 12, 13, 14, 15])"
      ]
     },
     "execution_count": 8,
     "metadata": {},
     "output_type": "execute_result"
    }
   ],
   "execution_count": 8
  },
  {
   "metadata": {
    "ExecuteTime": {
     "end_time": "2025-07-17T01:29:36.407477Z",
     "start_time": "2025-07-17T01:29:36.393402Z"
    }
   },
   "cell_type": "code",
   "source": "lspace = np.linspace(1, 4, 4)",
   "id": "efae7af87fd83017",
   "outputs": [],
   "execution_count": 9
  },
  {
   "metadata": {
    "ExecuteTime": {
     "end_time": "2025-07-17T01:29:36.494815Z",
     "start_time": "2025-07-17T01:29:36.485260Z"
    }
   },
   "cell_type": "code",
   "source": "lspace",
   "id": "f287cb2bff63f3a9",
   "outputs": [
    {
     "data": {
      "text/plain": [
       "array([1., 2., 3., 4.])"
      ]
     },
     "execution_count": 10,
     "metadata": {},
     "output_type": "execute_result"
    }
   ],
   "execution_count": 10
  },
  {
   "metadata": {
    "ExecuteTime": {
     "end_time": "2025-07-17T01:29:36.663517Z",
     "start_time": "2025-07-17T01:29:36.657512Z"
    }
   },
   "cell_type": "code",
   "source": "iden = np.identity(3, np.int64)",
   "id": "fe72a81607baf818",
   "outputs": [],
   "execution_count": 11
  },
  {
   "metadata": {
    "ExecuteTime": {
     "end_time": "2025-07-17T01:29:36.770934Z",
     "start_time": "2025-07-17T01:29:36.761681Z"
    }
   },
   "cell_type": "code",
   "source": "iden",
   "id": "697282e8d78bff90",
   "outputs": [
    {
     "data": {
      "text/plain": [
       "array([[1, 0, 0],\n",
       "       [0, 1, 0],\n",
       "       [0, 0, 1]])"
      ]
     },
     "execution_count": 12,
     "metadata": {},
     "output_type": "execute_result"
    }
   ],
   "execution_count": 12
  },
  {
   "metadata": {
    "ExecuteTime": {
     "end_time": "2025-07-17T01:29:36.990017Z",
     "start_time": "2025-07-17T01:29:36.979585Z"
    }
   },
   "cell_type": "code",
   "source": "arg = np.arange(1,101)",
   "id": "3965a015836ec22b",
   "outputs": [],
   "execution_count": 13
  },
  {
   "metadata": {
    "ExecuteTime": {
     "end_time": "2025-07-17T01:29:37.212391Z",
     "start_time": "2025-07-17T01:29:37.202780Z"
    }
   },
   "cell_type": "code",
   "source": "arg",
   "id": "4977e6e110822ab7",
   "outputs": [
    {
     "data": {
      "text/plain": [
       "array([  1,   2,   3,   4,   5,   6,   7,   8,   9,  10,  11,  12,  13,\n",
       "        14,  15,  16,  17,  18,  19,  20,  21,  22,  23,  24,  25,  26,\n",
       "        27,  28,  29,  30,  31,  32,  33,  34,  35,  36,  37,  38,  39,\n",
       "        40,  41,  42,  43,  44,  45,  46,  47,  48,  49,  50,  51,  52,\n",
       "        53,  54,  55,  56,  57,  58,  59,  60,  61,  62,  63,  64,  65,\n",
       "        66,  67,  68,  69,  70,  71,  72,  73,  74,  75,  76,  77,  78,\n",
       "        79,  80,  81,  82,  83,  84,  85,  86,  87,  88,  89,  90,  91,\n",
       "        92,  93,  94,  95,  96,  97,  98,  99, 100])"
      ]
     },
     "execution_count": 14,
     "metadata": {},
     "output_type": "execute_result"
    }
   ],
   "execution_count": 14
  },
  {
   "metadata": {
    "ExecuteTime": {
     "end_time": "2025-07-17T01:29:37.517264Z",
     "start_time": "2025-07-17T01:29:37.509449Z"
    }
   },
   "cell_type": "code",
   "source": "arg = arg.reshape(10,10)",
   "id": "9f4ff63545d4898a",
   "outputs": [],
   "execution_count": 15
  },
  {
   "metadata": {
    "ExecuteTime": {
     "end_time": "2025-07-17T01:29:37.683868Z",
     "start_time": "2025-07-17T01:29:37.672073Z"
    }
   },
   "cell_type": "code",
   "source": "arg",
   "id": "cb745e90853016b",
   "outputs": [
    {
     "data": {
      "text/plain": [
       "array([[  1,   2,   3,   4,   5,   6,   7,   8,   9,  10],\n",
       "       [ 11,  12,  13,  14,  15,  16,  17,  18,  19,  20],\n",
       "       [ 21,  22,  23,  24,  25,  26,  27,  28,  29,  30],\n",
       "       [ 31,  32,  33,  34,  35,  36,  37,  38,  39,  40],\n",
       "       [ 41,  42,  43,  44,  45,  46,  47,  48,  49,  50],\n",
       "       [ 51,  52,  53,  54,  55,  56,  57,  58,  59,  60],\n",
       "       [ 61,  62,  63,  64,  65,  66,  67,  68,  69,  70],\n",
       "       [ 71,  72,  73,  74,  75,  76,  77,  78,  79,  80],\n",
       "       [ 81,  82,  83,  84,  85,  86,  87,  88,  89,  90],\n",
       "       [ 91,  92,  93,  94,  95,  96,  97,  98,  99, 100]])"
      ]
     },
     "execution_count": 16,
     "metadata": {},
     "output_type": "execute_result"
    }
   ],
   "execution_count": 16
  },
  {
   "metadata": {
    "ExecuteTime": {
     "end_time": "2025-07-17T01:29:37.991226Z",
     "start_time": "2025-07-17T01:29:37.981885Z"
    }
   },
   "cell_type": "code",
   "source": "arg",
   "id": "fe5660777668799",
   "outputs": [
    {
     "data": {
      "text/plain": [
       "array([[  1,   2,   3,   4,   5,   6,   7,   8,   9,  10],\n",
       "       [ 11,  12,  13,  14,  15,  16,  17,  18,  19,  20],\n",
       "       [ 21,  22,  23,  24,  25,  26,  27,  28,  29,  30],\n",
       "       [ 31,  32,  33,  34,  35,  36,  37,  38,  39,  40],\n",
       "       [ 41,  42,  43,  44,  45,  46,  47,  48,  49,  50],\n",
       "       [ 51,  52,  53,  54,  55,  56,  57,  58,  59,  60],\n",
       "       [ 61,  62,  63,  64,  65,  66,  67,  68,  69,  70],\n",
       "       [ 71,  72,  73,  74,  75,  76,  77,  78,  79,  80],\n",
       "       [ 81,  82,  83,  84,  85,  86,  87,  88,  89,  90],\n",
       "       [ 91,  92,  93,  94,  95,  96,  97,  98,  99, 100]])"
      ]
     },
     "execution_count": 17,
     "metadata": {},
     "output_type": "execute_result"
    }
   ],
   "execution_count": 17
  },
  {
   "metadata": {
    "ExecuteTime": {
     "end_time": "2025-07-17T01:29:38.320768Z",
     "start_time": "2025-07-17T01:29:38.307577Z"
    }
   },
   "cell_type": "code",
   "source": "arg.sum(axis=0)",
   "id": "e7239d3f9dc34a49",
   "outputs": [
    {
     "data": {
      "text/plain": [
       "array([460, 470, 480, 490, 500, 510, 520, 530, 540, 550])"
      ]
     },
     "execution_count": 18,
     "metadata": {},
     "output_type": "execute_result"
    }
   ],
   "execution_count": 18
  },
  {
   "metadata": {
    "ExecuteTime": {
     "end_time": "2025-07-17T01:29:39.158298Z",
     "start_time": "2025-07-17T01:29:39.149246Z"
    }
   },
   "cell_type": "code",
   "source": "arg.T",
   "id": "5b7781b7233d20ce",
   "outputs": [
    {
     "data": {
      "text/plain": [
       "array([[  1,  11,  21,  31,  41,  51,  61,  71,  81,  91],\n",
       "       [  2,  12,  22,  32,  42,  52,  62,  72,  82,  92],\n",
       "       [  3,  13,  23,  33,  43,  53,  63,  73,  83,  93],\n",
       "       [  4,  14,  24,  34,  44,  54,  64,  74,  84,  94],\n",
       "       [  5,  15,  25,  35,  45,  55,  65,  75,  85,  95],\n",
       "       [  6,  16,  26,  36,  46,  56,  66,  76,  86,  96],\n",
       "       [  7,  17,  27,  37,  47,  57,  67,  77,  87,  97],\n",
       "       [  8,  18,  28,  38,  48,  58,  68,  78,  88,  98],\n",
       "       [  9,  19,  29,  39,  49,  59,  69,  79,  89,  99],\n",
       "       [ 10,  20,  30,  40,  50,  60,  70,  80,  90, 100]])"
      ]
     },
     "execution_count": 19,
     "metadata": {},
     "output_type": "execute_result"
    }
   ],
   "execution_count": 19
  },
  {
   "metadata": {
    "ExecuteTime": {
     "end_time": "2025-07-17T01:34:16.655406Z",
     "start_time": "2025-07-17T01:34:16.649499Z"
    }
   },
   "cell_type": "code",
   "source": "one = np.array([4,3,1,2])",
   "id": "55b1026092bc3b88",
   "outputs": [],
   "execution_count": 25
  },
  {
   "metadata": {
    "ExecuteTime": {
     "end_time": "2025-07-17T01:34:17.506906Z",
     "start_time": "2025-07-17T01:34:17.497619Z"
    }
   },
   "cell_type": "code",
   "source": "print(one.argmax())",
   "id": "53ba3fc356c40544",
   "outputs": [
    {
     "name": "stdout",
     "output_type": "stream",
     "text": [
      "0\n"
     ]
    }
   ],
   "execution_count": 26
  },
  {
   "metadata": {
    "ExecuteTime": {
     "end_time": "2025-07-17T01:34:17.983770Z",
     "start_time": "2025-07-17T01:34:17.976339Z"
    }
   },
   "cell_type": "code",
   "source": "print(one.argmin())",
   "id": "3b12585f588855ed",
   "outputs": [
    {
     "name": "stdout",
     "output_type": "stream",
     "text": [
      "2\n"
     ]
    }
   ],
   "execution_count": 27
  },
  {
   "metadata": {
    "ExecuteTime": {
     "end_time": "2025-07-17T01:34:18.439366Z",
     "start_time": "2025-07-17T01:34:18.424891Z"
    }
   },
   "cell_type": "code",
   "source": "print(one.argsort())",
   "id": "118c0a0be10e92c7",
   "outputs": [
    {
     "name": "stdout",
     "output_type": "stream",
     "text": [
      "[2 3 1 0]\n"
     ]
    }
   ],
   "execution_count": 28
  },
  {
   "metadata": {
    "ExecuteTime": {
     "end_time": "2025-07-17T01:36:27.310642Z",
     "start_time": "2025-07-17T01:36:27.304511Z"
    }
   },
   "cell_type": "code",
   "source": "two = np.array([[1,2,3],[4,5,6],[7,8,9]])",
   "id": "7d17e803709f817",
   "outputs": [],
   "execution_count": 29
  },
  {
   "metadata": {
    "ExecuteTime": {
     "end_time": "2025-07-17T01:36:39.783144Z",
     "start_time": "2025-07-17T01:36:39.775213Z"
    }
   },
   "cell_type": "code",
   "source": "print(two.argmax())",
   "id": "f765d9d0ab2039a9",
   "outputs": [
    {
     "name": "stdout",
     "output_type": "stream",
     "text": [
      "8\n"
     ]
    }
   ],
   "execution_count": 31
  },
  {
   "metadata": {
    "ExecuteTime": {
     "end_time": "2025-07-17T01:36:59.287849Z",
     "start_time": "2025-07-17T01:36:59.277430Z"
    }
   },
   "cell_type": "code",
   "source": "print(two.argmax(axis=0))",
   "id": "6d61685fca8c45f4",
   "outputs": [
    {
     "name": "stdout",
     "output_type": "stream",
     "text": [
      "[2 2 2]\n"
     ]
    }
   ],
   "execution_count": 33
  },
  {
   "metadata": {
    "ExecuteTime": {
     "end_time": "2025-07-17T01:40:18.398447Z",
     "start_time": "2025-07-17T01:40:18.387955Z"
    }
   },
   "cell_type": "code",
   "source": "two2 = np.array([[1,2,3],[4,5,6],[7,8,9]])",
   "id": "aa5f5eae07ca264b",
   "outputs": [],
   "execution_count": 34
  },
  {
   "metadata": {
    "ExecuteTime": {
     "end_time": "2025-07-17T01:41:06.356411Z",
     "start_time": "2025-07-17T01:41:06.342486Z"
    }
   },
   "cell_type": "code",
   "source": "print(two // two2)",
   "id": "6cc514b84dd4e74",
   "outputs": [
    {
     "name": "stdout",
     "output_type": "stream",
     "text": [
      "[[1 1 1]\n",
      " [1 1 1]\n",
      " [1 1 1]]\n"
     ]
    }
   ],
   "execution_count": 39
  },
  {
   "metadata": {
    "ExecuteTime": {
     "end_time": "2025-07-17T01:44:05.472871Z",
     "start_time": "2025-07-17T01:44:05.464684Z"
    }
   },
   "cell_type": "code",
   "source": "print(np.count_nonzero(two2))",
   "id": "8834ec96c614c3ff",
   "outputs": [
    {
     "name": "stdout",
     "output_type": "stream",
     "text": [
      "9\n"
     ]
    }
   ],
   "execution_count": 40
  },
  {
   "metadata": {
    "ExecuteTime": {
     "end_time": "2025-07-17T01:47:15.106445Z",
     "start_time": "2025-07-17T01:47:15.100406Z"
    }
   },
   "cell_type": "code",
   "source": "import sys",
   "id": "b0a1f8cf08ba7248",
   "outputs": [],
   "execution_count": 41
  },
  {
   "metadata": {
    "ExecuteTime": {
     "end_time": "2025-07-17T01:49:25.017008Z",
     "start_time": "2025-07-17T01:49:25.008581Z"
    }
   },
   "cell_type": "code",
   "source": [
    "py_arr = [1, 2, 3, 4, 5]\n",
    "np_arr = np.array(py_arr)\n",
    "print(sys.getsizeof(1) * len(np_arr))\n",
    "print(np_arr.itemsize * np_arr.size)"
   ],
   "id": "9cf46a582491a301",
   "outputs": [
    {
     "name": "stdout",
     "output_type": "stream",
     "text": [
      "140\n",
      "40\n"
     ]
    }
   ],
   "execution_count": 45
  },
  {
   "metadata": {
    "ExecuteTime": {
     "end_time": "2025-07-17T01:51:52.340231Z",
     "start_time": "2025-07-17T01:51:52.329071Z"
    }
   },
   "cell_type": "code",
   "source": "",
   "id": "aa4e8bac7343f23b",
   "outputs": [
    {
     "data": {
      "text/plain": [
       "array([[1, 2, 3],\n",
       "       [4, 5, 6],\n",
       "       [7, 8, 9]])"
      ]
     },
     "execution_count": 48,
     "metadata": {},
     "output_type": "execute_result"
    }
   ],
   "execution_count": 48
  },
  {
   "metadata": {},
   "cell_type": "code",
   "outputs": [],
   "execution_count": null,
   "source": "",
   "id": "a4d59e6d32965122"
  }
 ],
 "metadata": {
  "kernelspec": {
   "display_name": "Python 3",
   "language": "python",
   "name": "python3"
  },
  "language_info": {
   "codemirror_mode": {
    "name": "ipython",
    "version": 3
   },
   "file_extension": ".py",
   "mimetype": "text/x-python",
   "name": "python",
   "nbconvert_exporter": "python",
   "pygments_lexer": "ipython3",
   "version": "3.13.1"
  }
 },
 "nbformat": 4,
 "nbformat_minor": 5
}
